{
 "cells": [
  {
   "cell_type": "code",
   "execution_count": 15,
   "id": "27909076",
   "metadata": {},
   "outputs": [],
   "source": [
    "import numpy as np\n",
    "import pandas as pd\n",
    "from sklearn.model_selection import train_test_split\n",
    "from sklearn.linear_model import LogisticRegression\n",
    "from sklearn import metrics\n",
    "from sklearn.feature_extraction.text import CountVectorizer\n",
    "from sklearn.feature_extraction.text import TfidfTransformer\n",
    "from sklearn.svm import LinearSVC\n",
    "from sklearn.feature_extraction.text import TfidfVectorizer\n",
    "from sklearn.pipeline import Pipeline\n",
    "import pickle\n",
    "\n",
    "import matplotlib.pyplot as plt\n",
    "import seaborn as sns"
   ]
  },
  {
   "cell_type": "code",
   "execution_count": 16,
   "id": "37302341",
   "metadata": {},
   "outputs": [],
   "source": [
    "train = pd.read_csv(\"train.csv\")\n",
    "test = pd.read_csv(\"test.csv\")\n",
    "test_y = pd.read_csv(\"test_labels.csv\")"
   ]
  },
  {
   "cell_type": "code",
   "execution_count": 17,
   "id": "ff4378fa",
   "metadata": {},
   "outputs": [
    {
     "data": {
      "text/html": [
       "<div>\n",
       "<style scoped>\n",
       "    .dataframe tbody tr th:only-of-type {\n",
       "        vertical-align: middle;\n",
       "    }\n",
       "\n",
       "    .dataframe tbody tr th {\n",
       "        vertical-align: top;\n",
       "    }\n",
       "\n",
       "    .dataframe thead th {\n",
       "        text-align: right;\n",
       "    }\n",
       "</style>\n",
       "<table border=\"1\" class=\"dataframe\">\n",
       "  <thead>\n",
       "    <tr style=\"text-align: right;\">\n",
       "      <th></th>\n",
       "      <th>id</th>\n",
       "      <th>comment_text</th>\n",
       "      <th>toxic</th>\n",
       "      <th>severe_toxic</th>\n",
       "      <th>obscene</th>\n",
       "      <th>threat</th>\n",
       "      <th>insult</th>\n",
       "      <th>identity_hate</th>\n",
       "    </tr>\n",
       "  </thead>\n",
       "  <tbody>\n",
       "    <tr>\n",
       "      <th>0</th>\n",
       "      <td>0000997932d777bf</td>\n",
       "      <td>Explanation\\nWhy the edits made under my usern...</td>\n",
       "      <td>0</td>\n",
       "      <td>0</td>\n",
       "      <td>0</td>\n",
       "      <td>0</td>\n",
       "      <td>0</td>\n",
       "      <td>0</td>\n",
       "    </tr>\n",
       "    <tr>\n",
       "      <th>1</th>\n",
       "      <td>000103f0d9cfb60f</td>\n",
       "      <td>D'aww! He matches this background colour I'm s...</td>\n",
       "      <td>0</td>\n",
       "      <td>0</td>\n",
       "      <td>0</td>\n",
       "      <td>0</td>\n",
       "      <td>0</td>\n",
       "      <td>0</td>\n",
       "    </tr>\n",
       "    <tr>\n",
       "      <th>2</th>\n",
       "      <td>000113f07ec002fd</td>\n",
       "      <td>Hey man, I'm really not trying to edit war. It...</td>\n",
       "      <td>0</td>\n",
       "      <td>0</td>\n",
       "      <td>0</td>\n",
       "      <td>0</td>\n",
       "      <td>0</td>\n",
       "      <td>0</td>\n",
       "    </tr>\n",
       "    <tr>\n",
       "      <th>3</th>\n",
       "      <td>0001b41b1c6bb37e</td>\n",
       "      <td>\"\\nMore\\nI can't make any real suggestions on ...</td>\n",
       "      <td>0</td>\n",
       "      <td>0</td>\n",
       "      <td>0</td>\n",
       "      <td>0</td>\n",
       "      <td>0</td>\n",
       "      <td>0</td>\n",
       "    </tr>\n",
       "    <tr>\n",
       "      <th>4</th>\n",
       "      <td>0001d958c54c6e35</td>\n",
       "      <td>You, sir, are my hero. Any chance you remember...</td>\n",
       "      <td>0</td>\n",
       "      <td>0</td>\n",
       "      <td>0</td>\n",
       "      <td>0</td>\n",
       "      <td>0</td>\n",
       "      <td>0</td>\n",
       "    </tr>\n",
       "  </tbody>\n",
       "</table>\n",
       "</div>"
      ],
      "text/plain": [
       "                 id                                       comment_text  toxic  \\\n",
       "0  0000997932d777bf  Explanation\\nWhy the edits made under my usern...      0   \n",
       "1  000103f0d9cfb60f  D'aww! He matches this background colour I'm s...      0   \n",
       "2  000113f07ec002fd  Hey man, I'm really not trying to edit war. It...      0   \n",
       "3  0001b41b1c6bb37e  \"\\nMore\\nI can't make any real suggestions on ...      0   \n",
       "4  0001d958c54c6e35  You, sir, are my hero. Any chance you remember...      0   \n",
       "\n",
       "   severe_toxic  obscene  threat  insult  identity_hate  \n",
       "0             0        0       0       0              0  \n",
       "1             0        0       0       0              0  \n",
       "2             0        0       0       0              0  \n",
       "3             0        0       0       0              0  \n",
       "4             0        0       0       0              0  "
      ]
     },
     "execution_count": 17,
     "metadata": {},
     "output_type": "execute_result"
    }
   ],
   "source": [
    "train.head()"
   ]
  },
  {
   "cell_type": "code",
   "execution_count": 18,
   "id": "e4a6de89",
   "metadata": {},
   "outputs": [
    {
     "data": {
      "text/html": [
       "<div>\n",
       "<style scoped>\n",
       "    .dataframe tbody tr th:only-of-type {\n",
       "        vertical-align: middle;\n",
       "    }\n",
       "\n",
       "    .dataframe tbody tr th {\n",
       "        vertical-align: top;\n",
       "    }\n",
       "\n",
       "    .dataframe thead th {\n",
       "        text-align: right;\n",
       "    }\n",
       "</style>\n",
       "<table border=\"1\" class=\"dataframe\">\n",
       "  <thead>\n",
       "    <tr style=\"text-align: right;\">\n",
       "      <th></th>\n",
       "      <th>id</th>\n",
       "      <th>comment_text</th>\n",
       "    </tr>\n",
       "  </thead>\n",
       "  <tbody>\n",
       "    <tr>\n",
       "      <th>0</th>\n",
       "      <td>00001cee341fdb12</td>\n",
       "      <td>Yo bitch Ja Rule is more succesful then you'll...</td>\n",
       "    </tr>\n",
       "    <tr>\n",
       "      <th>1</th>\n",
       "      <td>0000247867823ef7</td>\n",
       "      <td>== From RfC == \\n\\n The title is fine as it is...</td>\n",
       "    </tr>\n",
       "    <tr>\n",
       "      <th>2</th>\n",
       "      <td>00013b17ad220c46</td>\n",
       "      <td>\" \\n\\n == Sources == \\n\\n * Zawe Ashton on Lap...</td>\n",
       "    </tr>\n",
       "    <tr>\n",
       "      <th>3</th>\n",
       "      <td>00017563c3f7919a</td>\n",
       "      <td>:If you have a look back at the source, the in...</td>\n",
       "    </tr>\n",
       "    <tr>\n",
       "      <th>4</th>\n",
       "      <td>00017695ad8997eb</td>\n",
       "      <td>I don't anonymously edit articles at all.</td>\n",
       "    </tr>\n",
       "  </tbody>\n",
       "</table>\n",
       "</div>"
      ],
      "text/plain": [
       "                 id                                       comment_text\n",
       "0  00001cee341fdb12  Yo bitch Ja Rule is more succesful then you'll...\n",
       "1  0000247867823ef7  == From RfC == \\n\\n The title is fine as it is...\n",
       "2  00013b17ad220c46  \" \\n\\n == Sources == \\n\\n * Zawe Ashton on Lap...\n",
       "3  00017563c3f7919a  :If you have a look back at the source, the in...\n",
       "4  00017695ad8997eb          I don't anonymously edit articles at all."
      ]
     },
     "execution_count": 18,
     "metadata": {},
     "output_type": "execute_result"
    }
   ],
   "source": [
    "test.head()"
   ]
  },
  {
   "cell_type": "code",
   "execution_count": 19,
   "id": "cfc37099",
   "metadata": {},
   "outputs": [
    {
     "data": {
      "text/html": [
       "<div>\n",
       "<style scoped>\n",
       "    .dataframe tbody tr th:only-of-type {\n",
       "        vertical-align: middle;\n",
       "    }\n",
       "\n",
       "    .dataframe tbody tr th {\n",
       "        vertical-align: top;\n",
       "    }\n",
       "\n",
       "    .dataframe thead th {\n",
       "        text-align: right;\n",
       "    }\n",
       "</style>\n",
       "<table border=\"1\" class=\"dataframe\">\n",
       "  <thead>\n",
       "    <tr style=\"text-align: right;\">\n",
       "      <th></th>\n",
       "      <th>id</th>\n",
       "      <th>toxic</th>\n",
       "      <th>severe_toxic</th>\n",
       "      <th>obscene</th>\n",
       "      <th>threat</th>\n",
       "      <th>insult</th>\n",
       "      <th>identity_hate</th>\n",
       "    </tr>\n",
       "  </thead>\n",
       "  <tbody>\n",
       "    <tr>\n",
       "      <th>0</th>\n",
       "      <td>00001cee341fdb12</td>\n",
       "      <td>-1</td>\n",
       "      <td>-1</td>\n",
       "      <td>-1</td>\n",
       "      <td>-1</td>\n",
       "      <td>-1</td>\n",
       "      <td>-1</td>\n",
       "    </tr>\n",
       "    <tr>\n",
       "      <th>1</th>\n",
       "      <td>0000247867823ef7</td>\n",
       "      <td>-1</td>\n",
       "      <td>-1</td>\n",
       "      <td>-1</td>\n",
       "      <td>-1</td>\n",
       "      <td>-1</td>\n",
       "      <td>-1</td>\n",
       "    </tr>\n",
       "    <tr>\n",
       "      <th>2</th>\n",
       "      <td>00013b17ad220c46</td>\n",
       "      <td>-1</td>\n",
       "      <td>-1</td>\n",
       "      <td>-1</td>\n",
       "      <td>-1</td>\n",
       "      <td>-1</td>\n",
       "      <td>-1</td>\n",
       "    </tr>\n",
       "    <tr>\n",
       "      <th>3</th>\n",
       "      <td>00017563c3f7919a</td>\n",
       "      <td>-1</td>\n",
       "      <td>-1</td>\n",
       "      <td>-1</td>\n",
       "      <td>-1</td>\n",
       "      <td>-1</td>\n",
       "      <td>-1</td>\n",
       "    </tr>\n",
       "    <tr>\n",
       "      <th>4</th>\n",
       "      <td>00017695ad8997eb</td>\n",
       "      <td>-1</td>\n",
       "      <td>-1</td>\n",
       "      <td>-1</td>\n",
       "      <td>-1</td>\n",
       "      <td>-1</td>\n",
       "      <td>-1</td>\n",
       "    </tr>\n",
       "  </tbody>\n",
       "</table>\n",
       "</div>"
      ],
      "text/plain": [
       "                 id  toxic  severe_toxic  obscene  threat  insult  \\\n",
       "0  00001cee341fdb12     -1            -1       -1      -1      -1   \n",
       "1  0000247867823ef7     -1            -1       -1      -1      -1   \n",
       "2  00013b17ad220c46     -1            -1       -1      -1      -1   \n",
       "3  00017563c3f7919a     -1            -1       -1      -1      -1   \n",
       "4  00017695ad8997eb     -1            -1       -1      -1      -1   \n",
       "\n",
       "   identity_hate  \n",
       "0             -1  \n",
       "1             -1  \n",
       "2             -1  \n",
       "3             -1  \n",
       "4             -1  "
      ]
     },
     "execution_count": 19,
     "metadata": {},
     "output_type": "execute_result"
    }
   ],
   "source": [
    "test_y.head()"
   ]
  },
  {
   "cell_type": "markdown",
   "id": "148a8405",
   "metadata": {},
   "source": [
    "### Find the Frequency of each type of comments in the dataset"
   ]
  },
  {
   "cell_type": "code",
   "execution_count": 20,
   "id": "6e3df0ee",
   "metadata": {},
   "outputs": [],
   "source": [
    "train_labels = train[['toxic','severe_toxic','obscene','threat','insult','identity_hate' ]]"
   ]
  },
  {
   "cell_type": "code",
   "execution_count": 21,
   "id": "9753053b",
   "metadata": {},
   "outputs": [],
   "source": [
    "label_count = train_labels.sum()"
   ]
  },
  {
   "cell_type": "code",
   "execution_count": 22,
   "id": "d5b2fc4a",
   "metadata": {},
   "outputs": [
    {
     "name": "stdout",
     "output_type": "stream",
     "text": [
      "toxic            15294\n",
      "severe_toxic      1595\n",
      "obscene           8449\n",
      "threat             478\n",
      "insult            7877\n",
      "identity_hate     1405\n",
      "dtype: int64\n"
     ]
    }
   ],
   "source": [
    "print(label_count)"
   ]
  },
  {
   "cell_type": "code",
   "execution_count": 23,
   "id": "3c669126",
   "metadata": {
    "scrolled": true
   },
   "outputs": [
    {
     "data": {
      "text/plain": [
       "<matplotlib.axes._subplots.AxesSubplot at 0x1c9d908d788>"
      ]
     },
     "execution_count": 23,
     "metadata": {},
     "output_type": "execute_result"
    },
    {
     "data": {
      "image/png": "[encoded data removed]",
      "text/plain": [
       "<Figure size 432x288 with 1 Axes>"
      ]
     },
     "metadata": {
      "needs_background": "light"
     },
     "output_type": "display_data"
    }
   ],
   "source": [
    "label_count.plot(kind='bar', title='Labels Frequency', color='salmon')"
   ]
  },
  {
   "cell_type": "markdown",
   "id": "2a3716ff",
   "metadata": {},
   "source": [
    "### Compare the imbalance between positive and negative comments in distribution"
   ]
  },
  {
   "cell_type": "code",
   "execution_count": 29,
   "id": "b5ef08da",
   "metadata": {},
   "outputs": [
    {
     "data": {
      "image/png": "[encoded data removed]",
      "text/plain": [
       "<Figure size 432x288 with 1 Axes>"
      ]
     },
     "metadata": {
      "needs_background": "light"
     },
     "output_type": "display_data"
    }
   ],
   "source": [
    "barWidth = 0.25\n",
    "\n",
    "bars1 = [sum(train['toxic'] == 1), sum(train['obscene'] == 1), sum(train['insult'] == 1), sum(train['severe_toxic'] == 1),\n",
    "         sum(train['identity_hate'] == 1), sum(train['threat'] == 1)]\n",
    "bars2 = [sum(train['toxic'] == 0), sum(train['obscene'] == 0), sum(train['insult'] == 0), sum(train['severe_toxic'] == 0),\n",
    "         sum(train['identity_hate'] == 0), sum(train['threat'] == 0)]\n",
    "\n",
    "\n",
    "plt.bar(r1, bars1, color='salmon', width=barWidth, label='labeled = 1')\n",
    "plt.bar(r2, bars2, color='lightsalmon', width=barWidth, label='labeled = 0')\n",
    "\n",
    "plt.xlabel('group', fontweight='bold')\n",
    "plt.xticks([r + barWidth for r in range(len(bars1))], ['Toxic', 'Obscene', 'Insult', 'Severe Toxic', 'Identity Hate',\n",
    "                                                       'Threat'])\n",
    "plt.legend()\n",
    "plt.show()"
   ]
  },
  {
   "cell_type": "markdown",
   "id": "a7ba94f4",
   "metadata": {},
   "source": [
    "### Find out the frequency of occurence of multilabelled data"
   ]
  },
  {
   "cell_type": "code",
   "execution_count": 32,
   "id": "e57f82a8",
   "metadata": {},
   "outputs": [],
   "source": [
    "# ct1,ct2 = 0,0\n",
    "# for i in range(len(train_labels)):\n",
    "#     ct = np.count_nonzero(train_labels[i])\n",
    "#     if ct :\n",
    "#         ct1 = ct1+1\n",
    "#     if ct>1 :\n",
    "#         ct2 = ct2+1\n",
    "# print(ct1)\n",
    "# print(ct2)\n",
    "# # print(\"Non-negative comments : \",ct1)\n",
    "# # print(\"Negative comments : \",ct2)"
   ]
  },
  {
   "cell_type": "markdown",
   "id": "dfd97095",
   "metadata": {},
   "source": [
    "### Find Correlation among the different types of negative comments"
   ]
  },
  {
   "cell_type": "code",
   "execution_count": 43,
   "id": "214f9a67",
   "metadata": {},
   "outputs": [
    {
     "data": {
      "text/plain": [
       "<matplotlib.axes._subplots.AxesSubplot at 0x1c9c1dc7248>"
      ]
     },
     "execution_count": 43,
     "metadata": {},
     "output_type": "execute_result"
    },
    {
     "data": {
      "image/png": "[encoded data removed]",
      "text/plain": [
       "<Figure size 720x576 with 2 Axes>"
      ]
     },
     "metadata": {
      "needs_background": "light"
     },
     "output_type": "display_data"
    }
   ],
   "source": [
    "#remove the rows that have all colomns set to 0\n",
    "rowsums = train.iloc[:, 2:].sum(axis=1)\n",
    "temp = train.iloc[:, 2:]\n",
    "train_corr = temp[rowsums > 0]\n",
    "corr = train_corr.corr(method ='pearson')\n",
    "plt.figure(figsize=(10, 8))\n",
    "sns.heatmap(corr,\n",
    "            xticklabels=corr.columns.values,\n",
    "            yticklabels=corr.columns.values, annot=True, cmap=\"Blues\")"
   ]
  },
  {
   "cell_type": "code",
   "execution_count": 45,
   "id": "e40f1290",
   "metadata": {},
   "outputs": [
    {
     "name": "stdout",
     "output_type": "stream",
     "text": [
      "0         0\n",
      "1         0\n",
      "2         0\n",
      "3         0\n",
      "4         0\n",
      "5         0\n",
      "6         4\n",
      "7         0\n",
      "8         0\n",
      "9         0\n",
      "10        0\n",
      "11        0\n",
      "12        1\n",
      "13        0\n",
      "14        0\n",
      "15        0\n",
      "16        1\n",
      "17        0\n",
      "18        0\n",
      "19        0\n",
      "20        0\n",
      "21        0\n",
      "22        0\n",
      "23        0\n",
      "24        0\n",
      "25        0\n",
      "26        0\n",
      "27        0\n",
      "28        0\n",
      "29        0\n",
      "         ..\n",
      "159541    3\n",
      "159542    0\n",
      "159543    0\n",
      "159544    0\n",
      "159545    0\n",
      "159546    2\n",
      "159547    0\n",
      "159548    0\n",
      "159549    0\n",
      "159550    0\n",
      "159551    0\n",
      "159552    0\n",
      "159553    0\n",
      "159554    3\n",
      "159555    0\n",
      "159556    0\n",
      "159557    0\n",
      "159558    0\n",
      "159559    0\n",
      "159560    0\n",
      "159561    0\n",
      "159562    0\n",
      "159563    0\n",
      "159564    0\n",
      "159565    0\n",
      "159566    0\n",
      "159567    0\n",
      "159568    0\n",
      "159569    0\n",
      "159570    0\n",
      "Length: 159571, dtype: int64\n"
     ]
    }
   ],
   "source": [
    "rowsums = train.iloc[:, 2:].sum(axis=1)\n",
    "temp = train.iloc[:, 2:]\n",
    "train_corr = temp[rowsums > 0]\n",
    "print(rowsums)"
   ]
  },
  {
   "cell_type": "markdown",
   "id": "7a99d7b4",
   "metadata": {},
   "source": [
    "### Preprocessing\n",
    "#### Preprocessing involved the following steps, but these will be performed in a slightly different manner:\n",
    "\n",
    "<ul>\n",
    "    <li>Removing Punctuations and other special characters</li>\n",
    "    <li>Splitting the comments into individual words</li>\n",
    "    <li>Removing Stop Words</li>\n",
    "    <li>Stemming and Lemmatising</li>\n",
    "</ul>"
   ]
  },
  {
   "cell_type": "code",
   "execution_count": 46,
   "id": "9d5d637a",
   "metadata": {},
   "outputs": [],
   "source": [
    "from nltk.stem.wordnet import WordNetLemmatizer\n",
    "from nltk.corpus import stopwords\n",
    "import re\n",
    "import string \n",
    "\n",
    "#cleaning the data - lower the data, remove punctuations, remove numbers, filter non-ascii, remove stop words\n",
    "def tokenize(text):\n",
    "    stop_words = set(stopwords.words('english'))\n",
    "    \n",
    "    text = text.lower()\n",
    "    regex = re.compile('[' + re.escape(string.punctuation) + '0-9\\\\r\\\\t\\\\n]')\n",
    "    nopunct = regex.sub(\" \", text)\n",
    "    words = nopunct.split(' ')\n",
    "    # remove any non ascii\n",
    "    words = [word.encode('ascii', 'ignore').decode('ascii') for word in words]\n",
    "    lmtzr = WordNetLemmatizer()\n",
    "    words = [lmtzr.lemmatize(w) for w in words]\n",
    "    \n",
    "    filtered_sentence = []\n",
    "    for w in words:\n",
    "        if len(w) > 2:\n",
    "            filtered_sentence.append(w)\n",
    "    return filtered_sentence"
   ]
  },
  {
   "cell_type": "code",
   "execution_count": 47,
   "id": "e9692958",
   "metadata": {},
   "outputs": [],
   "source": [
    "tfidf = TfidfVectorizer(ngram_range=(1, 1), analyzer='word',\n",
    "                         tokenizer=tokenize, stop_words='english',\n",
    "                         strip_accents='unicode', use_idf=1, min_df=10)\n",
    "X_train = tfidf.fit_transform(train['comment_text'])\n",
    "\n",
    "#we need to tranform the raw text of 'test' into float vectors bcz X_train is converted into vectors (not just fit but fit_transfor)\n",
    "X_test = tfidf.transform(test['comment_text'])"
   ]
  },
  {
   "cell_type": "code",
   "execution_count": 48,
   "id": "7431ed49",
   "metadata": {},
   "outputs": [
    {
     "name": "stderr",
     "output_type": "stream",
     "text": [
      "C:\\Users\\brs\\AppData\\Roaming\\Python\\Python37\\site-packages\\sklearn\\utils\\deprecation.py:87: FutureWarning: Function get_feature_names is deprecated; get_feature_names is deprecated in 1.0 and will be removed in 1.2. Please use get_feature_names_out instead.\n",
      "  warnings.warn(msg, category=FutureWarning)\n"
     ]
    },
    {
     "data": {
      "text/plain": [
       "['aaa',\n",
       " 'aap',\n",
       " 'aardvark',\n",
       " 'aaron',\n",
       " 'aba',\n",
       " 'abandon',\n",
       " 'abandoned',\n",
       " 'abandoning',\n",
       " 'abandonment',\n",
       " 'abbas',\n",
       " 'abbey',\n",
       " 'abbott',\n",
       " 'abbreviated',\n",
       " 'abbreviation',\n",
       " 'abc',\n",
       " 'abcnews',\n",
       " 'abd',\n",
       " 'abducted',\n",
       " 'abduction',\n",
       " 'abdul']"
      ]
     },
     "execution_count": 48,
     "metadata": {},
     "output_type": "execute_result"
    }
   ],
   "source": [
    "tfidf.get_feature_names()[:20]"
   ]
  },
  {
   "cell_type": "code",
   "execution_count": 120,
   "id": "ce0d256c",
   "metadata": {},
   "outputs": [],
   "source": [
    "test_labels = [\"toxic\", \"severe_toxic\", \"obscene\",\n",
    "               \"threat\", \"insult\", \"identity_hate\"]\n",
    "\n",
    "def score(X_train, y_train, X_test, y_test):\n",
    "    \"\"\"\n",
    "    Calculate Hamming-loss, F1, Recall for each label on test dataset.\n",
    "    \"\"\"\n",
    "    methods = []\n",
    "#     hloss = []\n",
    "#     name = classifier.__class__.__name__.split('.')[-1]\n",
    "    predict_df = pd.DataFrame()\n",
    "    predict_df['id'] = test_y['id']\n",
    "    hloss = []\n",
    "    reports = []\n",
    "    clf = LinearSVC()\n",
    "    \n",
    "    for label in test_labels:\n",
    "        \n",
    "        #fit and predict\n",
    "        clf.fit(X_train, y_train[label])\n",
    "        predicted = clf.predict(X_test)\n",
    "        \n",
    "        predict_df[label] = predicted\n",
    "        \n",
    "        \n",
    "        #to extract rows w/o -1, we use indexing. refer https://www.geeksforgeeks.org/how-to-select-rows-from-a-dataframe-based-on-column-values/\n",
    "        conf_mat = metrics.confusion_matrix(y_test[y_test[label] != -1][label],\n",
    "                                    predicted[y_test[label] != -1])\n",
    "        \n",
    "        recall = metrics.recall_score(y_test[y_test[label] != -1][label],\n",
    "                              predicted[y_test[label] != -1],\n",
    "                              average=\"weighted\")\n",
    "        \n",
    "        f1 = metrics.f1_score(y_test[y_test[label] != -1][label],\n",
    "                      predicted[y_test[label] != -1],\n",
    "                      average=\"weighted\")\n",
    "        accuracy = metrics.accuracy_score(y_test[y_test[label] != -1][label],\n",
    "                      predicted[y_test[label] != -1])\n",
    "\n",
    "        methods.append([label, conf_mat])\n",
    "        reports.append([label,recall,f1, accuracy])\n",
    "     \n",
    "    for label in test_labels:\n",
    "        hamming_loss_score = metrics.hamming_loss(y_test[y_test[label] != -1].iloc[:, 1:7],\n",
    "                                      predict_df[y_test[label] != -1].iloc[:, 1:7])\n",
    "        hloss.append([label,hamming_loss_score])\n",
    "    filename = 'saved_model.sav'\n",
    "    pickle.dump(clf, open(filename, 'wb'))\n",
    "        \n",
    "    return methods, hloss, reports\n",
    "        \n",
    "   "
   ]
  },
  {
   "cell_type": "code",
   "execution_count": 121,
   "id": "beceaf1d",
   "metadata": {},
   "outputs": [],
   "source": [
    "methods= []\n",
    "hloass = []\n",
    "methods, hloss, reports= score(X_train, train, X_test, test_y)"
   ]
  },
  {
   "cell_type": "code",
   "execution_count": 122,
   "id": "89438439",
   "metadata": {},
   "outputs": [
    {
     "data": {
      "text/plain": [
       "<matplotlib.axes._subplots.AxesSubplot at 0x1f88e958a08>"
      ]
     },
     "execution_count": 122,
     "metadata": {},
     "output_type": "execute_result"
    },
    {
     "data": {
      "image/png": "[encoded data removed]",
      "text/plain": [
       "<Figure size 432x288 with 2 Axes>"
      ]
     },
     "metadata": {
      "needs_background": "light"
     },
     "output_type": "display_data"
    }
   ],
   "source": [
    "sns.heatmap(methods[0][1]/np.sum(methods[0][1]), annot=True, fmt='.2%', cmap='Blues')"
   ]
  },
  {
   "cell_type": "code",
   "execution_count": 123,
   "id": "e46043b2",
   "metadata": {},
   "outputs": [
    {
     "data": {
      "text/plain": [
       "[['toxic',\n",
       "  array([[54439,  3449],\n",
       "         [ 1347,  4743]], dtype=int64)],\n",
       " ['severe_toxic',\n",
       "  array([[63407,   204],\n",
       "         [  245,   122]], dtype=int64)],\n",
       " ['obscene',\n",
       "  array([[59125,  1162],\n",
       "         [ 1217,  2474]], dtype=int64)],\n",
       " ['threat',\n",
       "  array([[63688,    79],\n",
       "         [  153,    58]], dtype=int64)],\n",
       " ['insult',\n",
       "  array([[59581,   970],\n",
       "         [ 1497,  1930]], dtype=int64)],\n",
       " ['identity_hate',\n",
       "  array([[63133,   133],\n",
       "         [  475,   237]], dtype=int64)]]"
      ]
     },
     "execution_count": 123,
     "metadata": {},
     "output_type": "execute_result"
    }
   ],
   "source": [
    "methods"
   ]
  },
  {
   "cell_type": "code",
   "execution_count": 124,
   "id": "f6db3e03",
   "metadata": {},
   "outputs": [
    {
     "data": {
      "text/plain": [
       "[['toxic', 0.028475934435795637],\n",
       " ['severe_toxic', 0.028475934435795637],\n",
       " ['obscene', 0.028475934435795637],\n",
       " ['threat', 0.028475934435795637],\n",
       " ['insult', 0.028475934435795637],\n",
       " ['identity_hate', 0.028475934435795637]]"
      ]
     },
     "execution_count": 124,
     "metadata": {},
     "output_type": "execute_result"
    }
   ],
   "source": [
    "hloss"
   ]
  },
  {
   "cell_type": "code",
   "execution_count": 125,
   "id": "e37e8e86",
   "metadata": {},
   "outputs": [],
   "source": [
    "df = pd.DataFrame(reports, columns=['label','recall', 'f1','Accuracy'])"
   ]
  },
  {
   "cell_type": "code",
   "execution_count": 126,
   "id": "0d61950a",
   "metadata": {},
   "outputs": [
    {
     "data": {
      "text/html": [
       "<div>\n",
       "<style scoped>\n",
       "    .dataframe tbody tr th:only-of-type {\n",
       "        vertical-align: middle;\n",
       "    }\n",
       "\n",
       "    .dataframe tbody tr th {\n",
       "        vertical-align: top;\n",
       "    }\n",
       "\n",
       "    .dataframe thead th {\n",
       "        text-align: right;\n",
       "    }\n",
       "</style>\n",
       "<table border=\"1\" class=\"dataframe\">\n",
       "  <thead>\n",
       "    <tr style=\"text-align: right;\">\n",
       "      <th></th>\n",
       "      <th>label</th>\n",
       "      <th>recall</th>\n",
       "      <th>f1</th>\n",
       "      <th>Accuracy</th>\n",
       "    </tr>\n",
       "  </thead>\n",
       "  <tbody>\n",
       "    <tr>\n",
       "      <th>0</th>\n",
       "      <td>toxic</td>\n",
       "      <td>0.925037</td>\n",
       "      <td>0.929860</td>\n",
       "      <td>0.925037</td>\n",
       "    </tr>\n",
       "    <tr>\n",
       "      <th>1</th>\n",
       "      <td>severe_toxic</td>\n",
       "      <td>0.992982</td>\n",
       "      <td>0.992775</td>\n",
       "      <td>0.992982</td>\n",
       "    </tr>\n",
       "    <tr>\n",
       "      <th>2</th>\n",
       "      <td>obscene</td>\n",
       "      <td>0.962815</td>\n",
       "      <td>0.962684</td>\n",
       "      <td>0.962815</td>\n",
       "    </tr>\n",
       "    <tr>\n",
       "      <th>3</th>\n",
       "      <td>threat</td>\n",
       "      <td>0.996374</td>\n",
       "      <td>0.995989</td>\n",
       "      <td>0.996374</td>\n",
       "    </tr>\n",
       "    <tr>\n",
       "      <th>4</th>\n",
       "      <td>insult</td>\n",
       "      <td>0.961440</td>\n",
       "      <td>0.959917</td>\n",
       "      <td>0.961440</td>\n",
       "    </tr>\n",
       "    <tr>\n",
       "      <th>5</th>\n",
       "      <td>identity_hate</td>\n",
       "      <td>0.990497</td>\n",
       "      <td>0.989008</td>\n",
       "      <td>0.990497</td>\n",
       "    </tr>\n",
       "  </tbody>\n",
       "</table>\n",
       "</div>"
      ],
      "text/plain": [
       "           label    recall        f1  Accuracy\n",
       "0          toxic  0.925037  0.929860  0.925037\n",
       "1   severe_toxic  0.992982  0.992775  0.992982\n",
       "2        obscene  0.962815  0.962684  0.962815\n",
       "3         threat  0.996374  0.995989  0.996374\n",
       "4         insult  0.961440  0.959917  0.961440\n",
       "5  identity_hate  0.990497  0.989008  0.990497"
      ]
     },
     "execution_count": 126,
     "metadata": {},
     "output_type": "execute_result"
    }
   ],
   "source": [
    "df"
   ]
  },
  {
   "cell_type": "code",
   "execution_count": 128,
   "id": "dd20e060",
   "metadata": {},
   "outputs": [
    {
     "data": {
      "image/png": "[encoded data removed]",
      "text/plain": [
       "<Figure size 1080x720 with 1 Axes>"
      ]
     },
     "metadata": {
      "needs_background": "light"
     },
     "output_type": "display_data"
    }
   ],
   "source": [
    "ax = df[['label','recall','f1','Accuracy']].plot( x='label',kind='bar', title =\"Label\", figsize=(15, 10), legend=True, fontsize=12, colormap='tab10')\n",
    "ax.set_xlabel(\"label\", fontsize=12)\n",
    "plt.show()"
   ]
  },
  {
   "cell_type": "code",
   "execution_count": null,
   "id": "af509084",
   "metadata": {},
   "outputs": [],
   "source": []
  }
 ],
 "metadata": {
  "kernelspec": {
   "display_name": "Python 3 (ipykernel)",
   "language": "python",
   "name": "python3"
  },
  "language_info": {
   "codemirror_mode": {
    "name": "ipython",
    "version": 3
   },
   "file_extension": ".py",
   "mimetype": "text/x-python",
   "name": "python",
   "nbconvert_exporter": "python",
   "pygments_lexer": "ipython3",
   "version": "3.10.0"
  }
 },
 "nbformat": 4,
 "nbformat_minor": 5
}
